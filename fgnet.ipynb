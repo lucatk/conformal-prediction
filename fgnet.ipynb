{
 "cells": [
  {
   "metadata": {
    "ExecuteTime": {
     "end_time": "2025-04-02T21:02:40.903899Z",
     "start_time": "2025-04-02T21:02:40.894046Z"
    }
   },
   "cell_type": "code",
   "source": [
    "import torch\n",
    "\n",
    "if not torch.backends.mps.is_available():\n",
    "    if not torch.backends.mps.is_built():\n",
    "        raise Exception(\"MPS not available because the current PyTorch install was not \"\n",
    "              \"built with MPS enabled.\")\n",
    "    else:\n",
    "        raise Exception(\"MPS not available because the current MacOS version is not 12.3+ \"\n",
    "              \"and/or you do not have an MPS-enabled device on this machine.\")"
   ],
   "id": "99131c768f9a9dc3",
   "outputs": [],
   "execution_count": 53
  },
  {
   "metadata": {
    "ExecuteTime": {
     "end_time": "2025-04-02T21:03:46.982808Z",
     "start_time": "2025-04-02T21:02:40.910076Z"
    }
   },
   "cell_type": "code",
   "source": [
    "import numpy as np\n",
    "from dlordinal.datasets import FGNet\n",
    "from dlordinal.losses import TriangularCrossEntropyLoss\n",
    "from dlordinal.metrics import amae, mmae\n",
    "from skorch import NeuralNetClassifier\n",
    "from torch import nn\n",
    "from torch.optim import Adam\n",
    "from torchvision import models\n",
    "from torchvision.transforms import Compose, ToTensor\n",
    "\n",
    "# Download the FGNet dataset\n",
    "fgnet_train = FGNet(\n",
    "    root=\"./datasets\",\n",
    "    train=True,\n",
    "    target_transform=np.array,\n",
    "    transform=Compose([ToTensor()]),\n",
    ")\n",
    "fgnet_test = FGNet(\n",
    "    root=\"./datasets\",\n",
    "    train=False,\n",
    "    target_transform=np.array,\n",
    "    transform=Compose([ToTensor()]),\n",
    ")\n",
    "\n",
    "num_classes_fgnet = len(fgnet_train.classes)\n",
    "\n",
    "# Model\n",
    "model = models.resnet18(weights=\"IMAGENET1K_V1\")\n",
    "model.fc = nn.Linear(model.fc.in_features, num_classes_fgnet)\n",
    "\n",
    "# Loss function\n",
    "loss_fn = TriangularCrossEntropyLoss(num_classes=num_classes_fgnet)\n",
    "\n",
    "# Skorch estimator\n",
    "estimator = NeuralNetClassifier(\n",
    "    module=model,\n",
    "    criterion=loss_fn,\n",
    "    optimizer=Adam,\n",
    "    lr=1e-3,\n",
    "    max_epochs=25,\n",
    "    device='mps',\n",
    ")\n",
    "\n",
    "estimator.fit(X=fgnet_train, y=fgnet_train.targets)\n",
    "train_probs = estimator.predict_proba(fgnet_train)\n",
    "test_probs = estimator.predict_proba(fgnet_test)\n",
    "\n",
    "# Metrics\n",
    "amae_metric = amae(np.array(fgnet_test.targets), test_probs)\n",
    "mmae_metric = mmae(np.array(fgnet_test.targets), test_probs)\n",
    "print(f\"Test AMAE: {amae_metric}, Test MMAE: {mmae_metric}\")"
   ],
   "id": "e8cb8ad71974ee33",
   "outputs": [
    {
     "name": "stdout",
     "output_type": "stream",
     "text": [
      "Files already downloaded and verified\n",
      "Files already processed and verified\n",
      "Files already split and verified\n",
      "Files already downloaded and verified\n",
      "Files already processed and verified\n",
      "Files already split and verified\n",
      "  epoch    train_loss    valid_acc    valid_loss     dur\n",
      "-------  ------------  -----------  ------------  ------\n",
      "      1        \u001B[36m1.6924\u001B[0m       \u001B[32m0.3292\u001B[0m        \u001B[35m2.0299\u001B[0m  8.2437\n",
      "      2        \u001B[36m0.9279\u001B[0m       0.3292        2.7551  2.3382\n",
      "      3        \u001B[36m0.6834\u001B[0m       \u001B[32m0.4596\u001B[0m        2.2886  2.3409\n",
      "      4        \u001B[36m0.5570\u001B[0m       0.3851        2.2740  2.3239\n",
      "      5        \u001B[36m0.4407\u001B[0m       \u001B[32m0.5342\u001B[0m        \u001B[35m1.6565\u001B[0m  2.3237\n",
      "      6        \u001B[36m0.4043\u001B[0m       \u001B[32m0.5528\u001B[0m        \u001B[35m1.3586\u001B[0m  2.3223\n",
      "      7        \u001B[36m0.3782\u001B[0m       0.5528        \u001B[35m1.3014\u001B[0m  2.3161\n",
      "      8        \u001B[36m0.3647\u001B[0m       \u001B[32m0.5839\u001B[0m        \u001B[35m1.2299\u001B[0m  2.3190\n",
      "      9        \u001B[36m0.3567\u001B[0m       0.5839        \u001B[35m1.1925\u001B[0m  2.3138\n",
      "     10        \u001B[36m0.3520\u001B[0m       \u001B[32m0.5901\u001B[0m        \u001B[35m1.1746\u001B[0m  2.3358\n",
      "     11        \u001B[36m0.3497\u001B[0m       \u001B[32m0.6025\u001B[0m        \u001B[35m1.1682\u001B[0m  2.3695\n",
      "     12        \u001B[36m0.3479\u001B[0m       0.6025        \u001B[35m1.1608\u001B[0m  2.4077\n",
      "     13        \u001B[36m0.3468\u001B[0m       0.6025        \u001B[35m1.1603\u001B[0m  2.3628\n",
      "     14        \u001B[36m0.3461\u001B[0m       0.5963        1.1666  2.3609\n",
      "     15        \u001B[36m0.3456\u001B[0m       0.5963        1.1645  2.3835\n",
      "     16        \u001B[36m0.3452\u001B[0m       0.5963        \u001B[35m1.1594\u001B[0m  2.3554\n",
      "     17        \u001B[36m0.3449\u001B[0m       0.5839        1.1617  2.3533\n",
      "     18        \u001B[36m0.3447\u001B[0m       0.5839        1.1674  2.3601\n",
      "     19        \u001B[36m0.3446\u001B[0m       0.5839        1.1696  2.3569\n",
      "     20        \u001B[36m0.3444\u001B[0m       0.5776        1.1710  2.3438\n",
      "     21        \u001B[36m0.3443\u001B[0m       0.5839        1.1735  2.3632\n",
      "     22        \u001B[36m0.3442\u001B[0m       0.5839        1.1748  2.3387\n",
      "     23        \u001B[36m0.3442\u001B[0m       0.5839        1.1777  2.3391\n",
      "     24        \u001B[36m0.3441\u001B[0m       0.5839        1.1804  2.3376\n",
      "     25        \u001B[36m0.3440\u001B[0m       0.5839        1.1816  2.3449\n",
      "Test AMAE: 0.6163780663780664, Test MMAE: 0.9285714285714286\n"
     ]
    }
   ],
   "execution_count": 54
  },
  {
   "metadata": {
    "ExecuteTime": {
     "end_time": "2025-04-02T21:03:47.011619Z",
     "start_time": "2025-04-02T21:03:47.008566Z"
    }
   },
   "cell_type": "code",
   "source": "",
   "id": "de8dc67b03e13890",
   "outputs": [],
   "execution_count": null
  }
 ],
 "metadata": {
  "kernelspec": {
   "display_name": "Python 3",
   "language": "python",
   "name": "python3"
  },
  "language_info": {
   "codemirror_mode": {
    "name": "ipython",
    "version": 2
   },
   "file_extension": ".py",
   "mimetype": "text/x-python",
   "name": "python",
   "nbconvert_exporter": "python",
   "pygments_lexer": "ipython2",
   "version": "2.7.6"
  }
 },
 "nbformat": 4,
 "nbformat_minor": 5
}
