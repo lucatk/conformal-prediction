{
 "cells": [
  {
   "cell_type": "code",
   "id": "initial_id",
   "metadata": {
    "ExecuteTime": {
     "end_time": "2025-10-19T13:54:44.966519Z",
     "start_time": "2025-10-19T13:54:44.962583Z"
    }
   },
   "source": [
    "import gc\n",
    "\n",
    "import numpy\n",
    "import torch\n",
    "from mapie.conformity_scores import LACConformityScore, APSConformityScore, RPSConformityScore\n",
    "\n",
    "from datasets.retina_mnist import RetinaMNISTDataset\n",
    "\n",
    "DATA_ROOT = '.'\n",
    "\n",
    "device = 'mps' if torch.mps.is_available() else 'cuda' if torch.cuda.is_available() else 'cpu'\n",
    "\n",
    "torch.manual_seed(1)\n",
    "\n",
    "def free_garbage():\n",
    "    torch.cuda.empty_cache()\n",
    "    gc.collect()"
   ],
   "outputs": [],
   "execution_count": 2
  },
  {
   "metadata": {
    "ExecuteTime": {
     "end_time": "2025-10-19T13:54:46.007203Z",
     "start_time": "2025-10-19T13:54:44.984748Z"
    }
   },
   "cell_type": "code",
   "source": [
    "from datasets.fgnet import FGNetDataset\n",
    "\n",
    "dataset = RetinaMNISTDataset(0.15, DATA_ROOT)\n",
    "\n",
    "X_train, y_train = dataset.get_train_data()\n",
    "X_hold_out, y_hold_out = dataset.get_hold_out_data()\n",
    "X_test, y_test = dataset.get_test_data()\n",
    "\n",
    "num_classes = dataset.get_num_classes()"
   ],
   "id": "6113561ef7c1ebc7",
   "outputs": [
    {
     "name": "stderr",
     "output_type": "stream",
     "text": [
      "100%|██████████| 3.29M/3.29M [00:00<00:00, 11.7MB/s]\n"
     ]
    }
   ],
   "execution_count": 3
  },
  {
   "metadata": {
    "ExecuteTime": {
     "end_time": "2025-10-19T16:56:40.216603Z",
     "start_time": "2025-10-19T16:56:29.359392Z"
    }
   },
   "cell_type": "code",
   "source": [
    "from typing import Any\n",
    "from numpy import ndarray, dtype\n",
    "from mapie.classification import SplitConformalClassifier\n",
    "from torch.optim.lr_scheduler import ReduceLROnPlateau\n",
    "from skorch import NeuralNetClassifier\n",
    "from skorch.dataset import ValidSplit\n",
    "from skorch.callbacks import EarlyStopping, LRScheduler, Checkpoint\n",
    "from torch.optim import AdamW, Adam\n",
    "from torch import nn\n",
    "from dlordinal.output_layers import COPOC\n",
    "from torchvision import models\n",
    "from dlordinal.losses import TriangularLoss, WKLoss, EMDLoss\n",
    "from torch.nn import CrossEntropyLoss\n",
    "\n",
    "losses = [\n",
    "    'COPOC',\n",
    "    # CrossEntropyLoss(),\n",
    "    # TriangularLoss(base_loss=CrossEntropyLoss(), num_classes=num_classes),\n",
    "    # WKLoss(num_classes=num_classes, use_logits=False),\n",
    "    # EMDLoss(num_classes=num_classes),\n",
    "]\n",
    "\n",
    "scores = [\n",
    "    LACConformityScore(),\n",
    "    APSConformityScore(),\n",
    "    # RPSConformityScore(),\n",
    "]\n",
    "\n",
    "preds: dict[str, tuple[ndarray[Any, dtype[Any]], ndarray[Any, dtype[Any]]]] = {}\n",
    "\n",
    "for loss in losses:\n",
    "    model = models.resnet18(weights=\"IMAGENET1K_V1\")\n",
    "    if loss == 'COPOC':\n",
    "        loss_name = loss\n",
    "        model.fc = nn.Sequential(nn.Linear(model.fc.in_features, num_classes), COPOC())\n",
    "        loss_function = CrossEntropyLoss().to(device)\n",
    "    elif (type(loss).__name__ == 'TriangularLoss'\n",
    "        or type(loss).__name__ == 'WKLoss'\n",
    "        or type(loss).__name__ == 'EMDLoss'):\n",
    "        loss_name = type(loss).__name__\n",
    "        model.fc = nn.Sequential(nn.Linear(model.fc.in_features, num_classes), nn.Softmax(dim=1))\n",
    "        loss_function = loss\n",
    "    else:\n",
    "        loss_name = type(loss).__name__\n",
    "        model.fc = nn.Linear(model.fc.in_features, num_classes)\n",
    "        loss_function = loss\n",
    "\n",
    "    classifier = NeuralNetClassifier(\n",
    "        module=model.to(device),\n",
    "        criterion=loss_function.to(device),\n",
    "        optimizer=AdamW,\n",
    "        lr=0.001,\n",
    "        batch_size=128,\n",
    "        train_split=None,\n",
    "        callbacks=[\n",
    "            EarlyStopping(patience=40, monitor=\"train_loss\"),  # long patience\n",
    "            # LRScheduler(policy=ReduceLROnPlateau, patience=10, factor=0.5, min_lr=1e-6),\n",
    "            # Checkpoint(monitor=\"valid_loss_best\", load_best=True)\n",
    "        ],\n",
    "        max_epochs=25,\n",
    "        device=device,\n",
    "    )\n",
    "\n",
    "    for score in scores:\n",
    "        cp = SplitConformalClassifier(\n",
    "            estimator=classifier,\n",
    "            conformity_score=score,\n",
    "            confidence_level=[0.98, 0.97, 0.95, 0.92, 0.9, 0.8, 0.7],\n",
    "            prefit=False,\n",
    "            random_state=1,\n",
    "        )\n",
    "\n",
    "        cp.fit(X_train, y_train)\n",
    "        cp.conformalize(X_hold_out, y_hold_out)\n",
    "\n",
    "        y_pred, y_pred_set = cp.predict_set(X_test)\n",
    "        preds[f'{loss_name}_{type(score).__name__}'] = (y_pred, y_pred_set)\n",
    "\n",
    "    free_garbage()\n"
   ],
   "id": "a6187958509748f9",
   "outputs": [
    {
     "name": "stdout",
     "output_type": "stream",
     "text": [
      "  epoch    train_loss     dur\n",
      "-------  ------------  ------\n",
      "      1        \u001B[36m1.5377\u001B[0m  0.4387\n",
      "      2        \u001B[36m1.3491\u001B[0m  0.2077\n",
      "      3        \u001B[36m1.2238\u001B[0m  0.2030\n",
      "      4        \u001B[36m1.2057\u001B[0m  0.2048\n",
      "      5        \u001B[36m1.1162\u001B[0m  0.2030\n",
      "      6        \u001B[36m1.1042\u001B[0m  0.2104\n",
      "      7        \u001B[36m1.0990\u001B[0m  0.2054\n",
      "      8        \u001B[36m1.0859\u001B[0m  0.2027\n",
      "      9        \u001B[36m1.0784\u001B[0m  0.2041\n",
      "     10        \u001B[36m1.0149\u001B[0m  0.2045\n",
      "     11        \u001B[36m0.9724\u001B[0m  0.2022\n",
      "     12        \u001B[36m0.9673\u001B[0m  0.2032\n",
      "     13        \u001B[36m0.9405\u001B[0m  0.2044\n",
      "     14        \u001B[36m0.9032\u001B[0m  0.2044\n",
      "     15        0.9223  0.2037\n",
      "     16        0.9269  0.2032\n",
      "     17        \u001B[36m0.8728\u001B[0m  0.2033\n",
      "     18        \u001B[36m0.8358\u001B[0m  0.2035\n",
      "     19        \u001B[36m0.8318\u001B[0m  0.2048\n",
      "     20        \u001B[36m0.8135\u001B[0m  0.2037\n",
      "     21        \u001B[36m0.7741\u001B[0m  0.2042\n",
      "     22        \u001B[36m0.7206\u001B[0m  0.2035\n",
      "     23        \u001B[36m0.7176\u001B[0m  0.2038\n",
      "     24        \u001B[36m0.7125\u001B[0m  0.2060\n",
      "     25        \u001B[36m0.7110\u001B[0m  0.2045\n",
      "  epoch    train_loss     dur\n",
      "-------  ------------  ------\n",
      "      1        \u001B[36m1.5377\u001B[0m  0.2071\n",
      "      2        \u001B[36m1.3491\u001B[0m  0.2036\n",
      "      3        \u001B[36m1.2238\u001B[0m  0.2035\n",
      "      4        \u001B[36m1.2057\u001B[0m  0.2086\n",
      "      5        \u001B[36m1.1162\u001B[0m  0.2118\n",
      "      6        \u001B[36m1.1042\u001B[0m  0.2050\n",
      "      7        \u001B[36m1.0990\u001B[0m  0.2063\n",
      "      8        \u001B[36m1.0859\u001B[0m  0.2066\n",
      "      9        \u001B[36m1.0784\u001B[0m  0.2046\n",
      "     10        \u001B[36m1.0149\u001B[0m  0.2056\n",
      "     11        \u001B[36m0.9724\u001B[0m  0.2065\n",
      "     12        \u001B[36m0.9673\u001B[0m  0.2037\n",
      "     13        \u001B[36m0.9405\u001B[0m  0.2050\n",
      "     14        \u001B[36m0.9032\u001B[0m  0.2070\n",
      "     15        0.9223  0.2049\n",
      "     16        0.9269  0.2059\n",
      "     17        \u001B[36m0.8728\u001B[0m  0.2032\n",
      "     18        \u001B[36m0.8358\u001B[0m  0.2033\n",
      "     19        \u001B[36m0.8318\u001B[0m  0.2030\n",
      "     20        \u001B[36m0.8135\u001B[0m  0.2028\n",
      "     21        \u001B[36m0.7741\u001B[0m  0.2061\n",
      "     22        \u001B[36m0.7206\u001B[0m  0.2058\n",
      "     23        \u001B[36m0.7176\u001B[0m  0.2045\n",
      "     24        \u001B[36m0.7125\u001B[0m  0.2039\n",
      "     25        \u001B[36m0.7110\u001B[0m  0.2023\n"
     ]
    }
   ],
   "execution_count": 20
  },
  {
   "metadata": {
    "ExecuteTime": {
     "end_time": "2025-10-19T16:56:46.099175Z",
     "start_time": "2025-10-19T16:56:46.095896Z"
    }
   },
   "cell_type": "code",
   "source": [
    "from metrics import calc_accuracy, calc_mae, calc_qwk\n",
    "\n",
    "metrics = {}\n",
    "for pred, (y_pred, y_pred_set) in preds.items():\n",
    "    metrics[pred] = (calc_accuracy(y_test, y_pred), calc_mae(y_test, y_pred), calc_qwk(y_test, y_pred))\n"
   ],
   "id": "9b588eb1aa1c210a",
   "outputs": [],
   "execution_count": 22
  }
 ],
 "metadata": {
  "kernelspec": {
   "display_name": "Python 3",
   "language": "python",
   "name": "python3"
  },
  "language_info": {
   "codemirror_mode": {
    "name": "ipython",
    "version": 2
   },
   "file_extension": ".py",
   "mimetype": "text/x-python",
   "name": "python",
   "nbconvert_exporter": "python",
   "pygments_lexer": "ipython2",
   "version": "2.7.6"
  }
 },
 "nbformat": 4,
 "nbformat_minor": 5
}
