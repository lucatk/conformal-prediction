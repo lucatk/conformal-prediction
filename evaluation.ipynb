{
 "cells": [
  {
   "cell_type": "code",
   "id": "initial_id",
   "metadata": {
    "ExecuteTime": {
     "end_time": "2025-10-10T12:12:18.075030Z",
     "start_time": "2025-10-10T12:12:18.071463Z"
    }
   },
   "source": [
    "import gc\n",
    "import torch\n",
    "from mapie.conformity_scores import LACConformityScore, APSConformityScore, RPSConformityScore\n",
    "\n",
    "DATA_ROOT = '.'\n",
    "\n",
    "device = 'mps' if torch.mps.is_available() else 'cuda' if torch.cuda.is_available() else 'cpu'\n",
    "\n",
    "\n",
    "def free_garbage():\n",
    "    torch.cuda.empty_cache()\n",
    "    gc.collect()"
   ],
   "outputs": [],
   "execution_count": 9
  },
  {
   "metadata": {
    "ExecuteTime": {
     "end_time": "2025-10-10T12:12:18.854408Z",
     "start_time": "2025-10-10T12:12:18.082964Z"
    }
   },
   "cell_type": "code",
   "source": [
    "from datasets.fgnet import FGNetDataset\n",
    "\n",
    "dataset = FGNetDataset(0.15, DATA_ROOT)\n",
    "\n",
    "X_train, y_train = dataset.get_train_data()\n",
    "X_hold_out, y_hold_out = dataset.get_hold_out_data()\n",
    "X_test, y_test = dataset.get_test_data()\n",
    "\n",
    "num_classes = dataset.get_num_classes()"
   ],
   "id": "6113561ef7c1ebc7",
   "outputs": [
    {
     "name": "stdout",
     "output_type": "stream",
     "text": [
      "Files already downloaded and verified\n",
      "Files already processed and verified\n",
      "Files already split and verified\n",
      "Files already downloaded and verified\n",
      "Files already processed and verified\n",
      "Files already split and verified\n"
     ]
    }
   ],
   "execution_count": 10
  },
  {
   "metadata": {
    "ExecuteTime": {
     "end_time": "2025-10-10T12:12:39.175215Z",
     "start_time": "2025-10-10T12:12:18.860421Z"
    }
   },
   "cell_type": "code",
   "source": [
    "from typing import Any\n",
    "from numpy import ndarray, dtype\n",
    "from mapie.classification import SplitConformalClassifier\n",
    "from torch.optim.lr_scheduler import ReduceLROnPlateau\n",
    "from skorch import NeuralNetClassifier\n",
    "from skorch.dataset import ValidSplit\n",
    "from skorch.callbacks import EarlyStopping, LRScheduler, Checkpoint\n",
    "from torch.optim import AdamW, Adam\n",
    "from torch import nn\n",
    "from dlordinal.output_layers import COPOC\n",
    "from torchvision import models\n",
    "from dlordinal.losses import TriangularLoss, WKLoss, EMDLoss\n",
    "from torch.nn import CrossEntropyLoss\n",
    "\n",
    "losses = [\n",
    "    # 'COPOC',\n",
    "    CrossEntropyLoss(),\n",
    "    # TriangularLoss(base_loss=CrossEntropyLoss(), num_classes=num_classes),\n",
    "    # WKLoss(num_classes=num_classes, use_logits=True),\n",
    "    # EMDLoss(num_classes=num_classes),\n",
    "]\n",
    "\n",
    "scores = [\n",
    "    LACConformityScore(),\n",
    "    # APSConformityScore(),\n",
    "    # RPSConformityScore(),\n",
    "]\n",
    "\n",
    "preds: dict[str, tuple[ndarray[Any, dtype[Any]], ndarray[Any, dtype[Any]]]] = {}\n",
    "\n",
    "for loss in losses:\n",
    "    model = models.resnet18(weights=\"IMAGENET1K_V1\")\n",
    "    if loss == 'COPOC':\n",
    "        loss_name = loss\n",
    "        model.fc = nn.Sequential(nn.Linear(model.fc.in_features, num_classes), COPOC())\n",
    "        loss_function = CrossEntropyLoss().to(device)\n",
    "    elif (type(loss).__name__ == 'TriangularLoss'\n",
    "        or type(loss).__name__ == 'WKLoss'\n",
    "        or type(loss).__name__ == 'EMDLoss'):\n",
    "        loss_name = type(loss).__name__\n",
    "        model.fc = nn.Sequential(nn.Linear(model.fc.in_features, num_classes), nn.Softmax(dim=1))\n",
    "        loss_function = loss\n",
    "    else:\n",
    "        loss_name = type(loss).__name__\n",
    "        model.fc = nn.Linear(model.fc.in_features, num_classes)\n",
    "        loss_function = loss\n",
    "\n",
    "    classifier = NeuralNetClassifier(\n",
    "        module=model.to(device),\n",
    "        criterion=loss_function.to(device),\n",
    "        optimizer=Adam,\n",
    "        lr=0.001,\n",
    "        batch_size=128,\n",
    "        train_split=ValidSplit(\n",
    "            0.1, random_state=1\n",
    "        ),\n",
    "        callbacks=[\n",
    "            EarlyStopping(patience=40, monitor=\"valid_loss\"),  # long patience\n",
    "            LRScheduler(policy=ReduceLROnPlateau, patience=10, factor=0.5, min_lr=1e-6),\n",
    "            Checkpoint(monitor=\"valid_loss_best\", load_best=True)\n",
    "        ],\n",
    "        max_epochs=25,\n",
    "        device=device,\n",
    "    )\n",
    "\n",
    "    classifier.fit(X_train, y_train)\n",
    "\n",
    "    for score in scores:\n",
    "        cp = SplitConformalClassifier(\n",
    "            estimator=classifier,\n",
    "            conformity_score=score,\n",
    "            confidence_level=[0.98, 0.97, 0.95, 0.92, 0.9, 0.8, 0.7],\n",
    "            prefit=True,\n",
    "            random_state=1,\n",
    "        )\n",
    "\n",
    "        cp.conformalize(X_hold_out, y_hold_out)\n",
    "\n",
    "        y_pred, y_pred_set = cp.predict_set(X_test)\n",
    "        preds[f'{loss_name}_{type(score).__name__}'] = (y_pred, y_pred_set)\n",
    "\n",
    "    free_garbage()\n"
   ],
   "id": "a6187958509748f9",
   "outputs": [
    {
     "name": "stdout",
     "output_type": "stream",
     "text": [
      "  epoch    train_loss    valid_acc    valid_loss    cp      lr     dur\n",
      "-------  ------------  -----------  ------------  ----  ------  ------\n",
      "      1        \u001B[36m1.7109\u001B[0m       \u001B[32m0.4265\u001B[0m        \u001B[35m1.7659\u001B[0m     +  0.0010  1.1000\n",
      "      2        \u001B[36m0.7853\u001B[0m       0.3676        2.4689        0.0010  0.7383\n",
      "      3        \u001B[36m0.3677\u001B[0m       \u001B[32m0.4559\u001B[0m        2.2243        0.0010  0.7215\n",
      "      4        \u001B[36m0.1097\u001B[0m       \u001B[32m0.5147\u001B[0m        1.8335        0.0010  0.7188\n",
      "      5        \u001B[36m0.0331\u001B[0m       \u001B[32m0.5294\u001B[0m        \u001B[35m1.7647\u001B[0m     +  0.0010  0.7252\n",
      "      6        \u001B[36m0.0074\u001B[0m       0.4853        1.8437        0.0010  0.7137\n",
      "      7        \u001B[36m0.0039\u001B[0m       \u001B[32m0.5588\u001B[0m        1.8837        0.0010  0.7210\n",
      "      8        \u001B[36m0.0019\u001B[0m       0.5441        1.8439        0.0010  0.7198\n",
      "      9        \u001B[36m0.0011\u001B[0m       0.5441        1.7754        0.0010  0.7251\n",
      "     10        \u001B[36m0.0008\u001B[0m       \u001B[32m0.6029\u001B[0m        \u001B[35m1.7149\u001B[0m     +  0.0010  0.7233\n",
      "     11        \u001B[36m0.0006\u001B[0m       0.6029        \u001B[35m1.6732\u001B[0m     +  0.0010  0.7337\n",
      "     12        \u001B[36m0.0005\u001B[0m       \u001B[32m0.6324\u001B[0m        \u001B[35m1.6514\u001B[0m     +  0.0010  0.7257\n",
      "     13        \u001B[36m0.0004\u001B[0m       0.6324        \u001B[35m1.6419\u001B[0m     +  0.0010  0.7233\n",
      "     14        \u001B[36m0.0004\u001B[0m       0.6324        \u001B[35m1.6383\u001B[0m     +  0.0010  0.7180\n",
      "     15        \u001B[36m0.0003\u001B[0m       0.6324        \u001B[35m1.6374\u001B[0m     +  0.0010  0.7216\n",
      "     16        \u001B[36m0.0003\u001B[0m       0.6324        1.6380        0.0010  0.7208\n",
      "     17        \u001B[36m0.0003\u001B[0m       0.6324        1.6387        0.0010  0.7168\n",
      "     18        \u001B[36m0.0002\u001B[0m       0.6324        1.6394        0.0010  0.7165\n",
      "     19        \u001B[36m0.0002\u001B[0m       0.6324        1.6400        0.0010  0.7257\n",
      "     20        \u001B[36m0.0002\u001B[0m       0.6324        1.6405        0.0010  0.7437\n",
      "     21        \u001B[36m0.0002\u001B[0m       0.6324        1.6410        0.0010  0.7394\n",
      "     22        \u001B[36m0.0002\u001B[0m       0.6324        1.6415        0.0010  0.7255\n",
      "     23        \u001B[36m0.0002\u001B[0m       0.6324        1.6420        0.0010  0.7293\n",
      "     24        \u001B[36m0.0002\u001B[0m       0.6324        1.6426        0.0010  0.7297\n",
      "     25        \u001B[36m0.0002\u001B[0m       0.6324        1.6432        0.0010  0.7505\n"
     ]
    }
   ],
   "execution_count": 11
  }
 ],
 "metadata": {
  "kernelspec": {
   "display_name": "Python 3",
   "language": "python",
   "name": "python3"
  },
  "language_info": {
   "codemirror_mode": {
    "name": "ipython",
    "version": 2
   },
   "file_extension": ".py",
   "mimetype": "text/x-python",
   "name": "python",
   "nbconvert_exporter": "python",
   "pygments_lexer": "ipython2",
   "version": "2.7.6"
  }
 },
 "nbformat": 4,
 "nbformat_minor": 5
}
