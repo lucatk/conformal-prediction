{
 "cells": [
  {
   "cell_type": "code",
   "id": "initial_id",
   "metadata": {
    "ExecuteTime": {
     "end_time": "2025-10-10T12:12:18.075030Z",
     "start_time": "2025-10-10T12:12:18.071463Z"
    }
   },
   "source": [
    "import gc\n",
    "import torch\n",
    "from mapie.conformity_scores import LACConformityScore, APSConformityScore, RPSConformityScore\n",
    "\n",
    "DATA_ROOT = '.'\n",
    "\n",
    "device = 'mps' if torch.mps.is_available() else 'cuda' if torch.cuda.is_available() else 'cpu'\n",
    "\n",
    "\n",
    "def free_garbage():\n",
    "    torch.cuda.empty_cache()\n",
    "    gc.collect()"
   ],
   "outputs": [],
   "execution_count": 9
  },
  {
   "metadata": {
    "ExecuteTime": {
     "end_time": "2025-10-10T12:12:18.854408Z",
     "start_time": "2025-10-10T12:12:18.082964Z"
    }
   },
   "cell_type": "code",
   "source": [
    "from datasets.fgnet import FGNetDataset\n",
    "\n",
    "dataset = FGNetDataset(0.15, DATA_ROOT)\n",
    "\n",
    "X_train, y_train = dataset.get_train_data()\n",
    "X_hold_out, y_hold_out = dataset.get_hold_out_data()\n",
    "X_test, y_test = dataset.get_test_data()\n",
    "\n",
    "num_classes = dataset.get_num_classes()"
   ],
   "id": "6113561ef7c1ebc7",
   "outputs": [
    {
     "name": "stdout",
     "output_type": "stream",
     "text": [
      "Files already downloaded and verified\n",
      "Files already processed and verified\n",
      "Files already split and verified\n",
      "Files already downloaded and verified\n",
      "Files already processed and verified\n",
      "Files already split and verified\n"
     ]
    }
   ],
   "execution_count": 10
  },
  {
   "metadata": {
    "ExecuteTime": {
     "end_time": "2025-10-10T14:01:20.554838Z",
     "start_time": "2025-10-10T14:00:40.526343Z"
    }
   },
   "cell_type": "code",
   "source": [
    "from typing import Any\n",
    "from numpy import ndarray, dtype\n",
    "from mapie.classification import SplitConformalClassifier\n",
    "from torch.optim.lr_scheduler import ReduceLROnPlateau\n",
    "from skorch import NeuralNetClassifier\n",
    "from skorch.dataset import ValidSplit\n",
    "from skorch.callbacks import EarlyStopping, LRScheduler, Checkpoint\n",
    "from torch.optim import AdamW, Adam\n",
    "from torch import nn\n",
    "from dlordinal.output_layers import COPOC\n",
    "from torchvision import models\n",
    "from dlordinal.losses import TriangularLoss, WKLoss, EMDLoss\n",
    "from torch.nn import CrossEntropyLoss\n",
    "\n",
    "losses = [\n",
    "    # 'COPOC',\n",
    "    CrossEntropyLoss(),\n",
    "    TriangularLoss(base_loss=CrossEntropyLoss(), num_classes=num_classes),\n",
    "    # WKLoss(num_classes=num_classes, use_logits=True),\n",
    "    # EMDLoss(num_classes=num_classes),\n",
    "]\n",
    "\n",
    "scores = [\n",
    "    LACConformityScore(),\n",
    "    APSConformityScore(),\n",
    "    RPSConformityScore(),\n",
    "]\n",
    "\n",
    "preds: dict[str, tuple[ndarray[Any, dtype[Any]], ndarray[Any, dtype[Any]]]] = {}\n",
    "\n",
    "for loss in losses:\n",
    "    model = models.resnet18(weights=\"IMAGENET1K_V1\")\n",
    "    if loss == 'COPOC':\n",
    "        loss_name = loss\n",
    "        model.fc = nn.Sequential(nn.Linear(model.fc.in_features, num_classes), COPOC())\n",
    "        loss_function = CrossEntropyLoss().to(device)\n",
    "    elif (type(loss).__name__ == 'TriangularLoss'\n",
    "        or type(loss).__name__ == 'WKLoss'\n",
    "        or type(loss).__name__ == 'EMDLoss'):\n",
    "        loss_name = type(loss).__name__\n",
    "        model.fc = nn.Sequential(nn.Linear(model.fc.in_features, num_classes), nn.Softmax(dim=1))\n",
    "        loss_function = loss\n",
    "    else:\n",
    "        loss_name = type(loss).__name__\n",
    "        model.fc = nn.Linear(model.fc.in_features, num_classes)\n",
    "        loss_function = loss\n",
    "\n",
    "    classifier = NeuralNetClassifier(\n",
    "        module=model.to(device),\n",
    "        criterion=loss_function.to(device),\n",
    "        optimizer=Adam,\n",
    "        lr=0.001,\n",
    "        batch_size=128,\n",
    "        train_split=ValidSplit(\n",
    "            0.1, random_state=1\n",
    "        ),\n",
    "        callbacks=[\n",
    "            EarlyStopping(patience=40, monitor=\"valid_loss\"),  # long patience\n",
    "            LRScheduler(policy=ReduceLROnPlateau, patience=10, factor=0.5, min_lr=1e-6),\n",
    "            Checkpoint(monitor=\"valid_loss_best\", load_best=True)\n",
    "        ],\n",
    "        max_epochs=25,\n",
    "        device=device,\n",
    "    )\n",
    "\n",
    "    classifier.fit(X_train, y_train)\n",
    "\n",
    "    for score in scores:\n",
    "        cp = SplitConformalClassifier(\n",
    "            estimator=classifier,\n",
    "            conformity_score=score,\n",
    "            confidence_level=[0.98, 0.97, 0.95, 0.92, 0.9, 0.8, 0.7],\n",
    "            prefit=True,\n",
    "            random_state=1,\n",
    "        )\n",
    "\n",
    "        cp.conformalize(X_hold_out, y_hold_out)\n",
    "\n",
    "        y_pred, y_pred_set = cp.predict_set(X_test)\n",
    "        preds[f'{loss_name}_{type(score).__name__}'] = (y_pred, y_pred_set)\n",
    "\n",
    "    free_garbage()\n"
   ],
   "id": "a6187958509748f9",
   "outputs": [
    {
     "name": "stdout",
     "output_type": "stream",
     "text": [
      "  epoch    train_loss    valid_acc    valid_loss    cp      lr     dur\n",
      "-------  ------------  -----------  ------------  ----  ------  ------\n",
      "      1        \u001B[36m1.7122\u001B[0m       \u001B[32m0.3382\u001B[0m        \u001B[35m1.7823\u001B[0m     +  0.0010  0.7892\n",
      "      2        \u001B[36m0.6939\u001B[0m       \u001B[32m0.4853\u001B[0m        1.7917        0.0010  0.7247\n",
      "      3        \u001B[36m0.2107\u001B[0m       \u001B[32m0.5000\u001B[0m        1.9772        0.0010  0.7195\n",
      "      4        \u001B[36m0.0833\u001B[0m       0.5000        1.7962        0.0010  0.7188\n",
      "      5        \u001B[36m0.0214\u001B[0m       0.5000        1.8008        0.0010  0.7280\n",
      "      6        \u001B[36m0.0152\u001B[0m       \u001B[32m0.5147\u001B[0m        1.8038        0.0010  0.7175\n",
      "      7        \u001B[36m0.0039\u001B[0m       \u001B[32m0.5735\u001B[0m        1.8281        0.0010  0.7151\n",
      "      8        \u001B[36m0.0024\u001B[0m       \u001B[32m0.6176\u001B[0m        \u001B[35m1.6660\u001B[0m     +  0.0010  0.7308\n",
      "      9        \u001B[36m0.0015\u001B[0m       \u001B[32m0.6471\u001B[0m        \u001B[35m1.5327\u001B[0m     +  0.0010  0.7209\n",
      "     10        \u001B[36m0.0009\u001B[0m       0.6324        \u001B[35m1.4900\u001B[0m     +  0.0010  0.7284\n",
      "     11        \u001B[36m0.0006\u001B[0m       0.6324        \u001B[35m1.4813\u001B[0m     +  0.0010  0.7166\n",
      "     12        \u001B[36m0.0005\u001B[0m       0.6176        \u001B[35m1.4793\u001B[0m     +  0.0010  0.7151\n",
      "     13        \u001B[36m0.0004\u001B[0m       0.6176        1.4800        0.0010  0.7244\n",
      "     14        \u001B[36m0.0003\u001B[0m       0.6176        1.4811        0.0010  0.7199\n",
      "     15        \u001B[36m0.0003\u001B[0m       0.6176        1.4823        0.0010  0.7212\n",
      "     16        \u001B[36m0.0003\u001B[0m       0.6176        1.4837        0.0010  0.7138\n",
      "     17        \u001B[36m0.0002\u001B[0m       0.6176        1.4854        0.0010  0.7150\n",
      "     18        \u001B[36m0.0002\u001B[0m       0.6029        1.4872        0.0010  0.7132\n",
      "     19        \u001B[36m0.0002\u001B[0m       0.6029        1.4890        0.0010  0.7269\n",
      "     20        \u001B[36m0.0002\u001B[0m       0.6176        1.4906        0.0010  0.7152\n",
      "     21        \u001B[36m0.0002\u001B[0m       0.6176        1.4921        0.0010  0.7192\n",
      "     22        \u001B[36m0.0002\u001B[0m       0.6176        1.4934        0.0010  0.7193\n",
      "     23        \u001B[36m0.0002\u001B[0m       0.6176        1.4947        0.0010  0.7313\n",
      "     24        \u001B[36m0.0002\u001B[0m       0.6176        1.4958        0.0010  0.7423\n",
      "     25        \u001B[36m0.0001\u001B[0m       0.6324        1.4969        0.0010  0.7343\n",
      "  epoch    train_loss    valid_acc    valid_loss    cp      lr     dur\n",
      "-------  ------------  -----------  ------------  ----  ------  ------\n",
      "      1        \u001B[36m1.7002\u001B[0m       \u001B[32m0.2353\u001B[0m        \u001B[35m1.7291\u001B[0m     +  0.0010  1.2767\n",
      "      2        \u001B[36m1.5404\u001B[0m       \u001B[32m0.3382\u001B[0m        \u001B[35m1.7013\u001B[0m     +  0.0010  0.7329\n",
      "      3        \u001B[36m1.4109\u001B[0m       \u001B[32m0.6029\u001B[0m        \u001B[35m1.4733\u001B[0m     +  0.0010  0.7282\n",
      "      4        \u001B[36m1.3500\u001B[0m       0.4412        1.6209        0.0010  0.7292\n",
      "      5        \u001B[36m1.3422\u001B[0m       0.4559        1.5937        0.0010  0.7290\n",
      "      6        \u001B[36m1.3000\u001B[0m       0.5735        1.4960        0.0010  0.7263\n",
      "      7        \u001B[36m1.2553\u001B[0m       0.5441        1.5348        0.0010  0.7270\n",
      "      8        \u001B[36m1.2239\u001B[0m       0.4706        1.5689        0.0010  0.7301\n",
      "      9        \u001B[36m1.1903\u001B[0m       0.5294        1.5332        0.0010  0.7413\n",
      "     10        \u001B[36m1.1837\u001B[0m       0.6029        1.4752        0.0010  0.7379\n",
      "     11        \u001B[36m1.1775\u001B[0m       0.4559        1.6104        0.0010  0.7320\n",
      "     12        \u001B[36m1.1764\u001B[0m       0.5000        1.5451        0.0010  0.7260\n",
      "     13        \u001B[36m1.1624\u001B[0m       0.5441        1.5211        0.0010  0.7197\n",
      "     14        \u001B[36m1.1593\u001B[0m       0.4706        1.5933        0.0010  0.7234\n",
      "     15        \u001B[36m1.1565\u001B[0m       0.5441        1.5265        0.0010  0.7172\n",
      "     16        1.1659       0.5441        1.5195        0.0010  0.7239\n",
      "     17        \u001B[36m1.1527\u001B[0m       0.5588        1.5001        0.0010  0.7256\n",
      "     18        1.1594       \u001B[32m0.6324\u001B[0m        \u001B[35m1.4710\u001B[0m     +  0.0010  0.7250\n",
      "     19        1.1557       0.4412        1.6115        0.0010  0.7247\n",
      "     20        1.1615       0.4118        1.6190        0.0010  0.7168\n",
      "     21        1.1653       0.5588        1.5236        0.0010  0.7187\n",
      "     22        1.1633       0.4706        1.5813        0.0010  0.7262\n",
      "     23        1.1632       0.5147        1.5517        0.0010  0.7187\n",
      "     24        1.1608       0.5000        1.5521        0.0010  0.7209\n",
      "     25        1.1592       0.6029        1.4958        0.0010  0.7181\n"
     ]
    }
   ],
   "execution_count": 12
  },
  {
   "metadata": {},
   "cell_type": "code",
   "outputs": [],
   "execution_count": null,
   "source": "",
   "id": "9b588eb1aa1c210a"
  }
 ],
 "metadata": {
  "kernelspec": {
   "display_name": "Python 3",
   "language": "python",
   "name": "python3"
  },
  "language_info": {
   "codemirror_mode": {
    "name": "ipython",
    "version": 2
   },
   "file_extension": ".py",
   "mimetype": "text/x-python",
   "name": "python",
   "nbconvert_exporter": "python",
   "pygments_lexer": "ipython2",
   "version": "2.7.6"
  }
 },
 "nbformat": 4,
 "nbformat_minor": 5
}
